{
 "cells": [
  {
   "cell_type": "markdown",
   "metadata": {},
   "source": [
    "# Packet Capturing \n",
    "\n",
    "**Overview**: There are many ways people can gain information from computer networks. One such method is through the use of packet sniffing and capturing. Packet Capturing is the process in which somebody uses a computer program or form of hardware to monitor and log the traffic between networks. Packets that are captured can analyzed and decoded for the raw data, showing the values for the various fields of the packet.\n",
    "\n",
    "In this exercise you are tasked with intercepting that traffic of a server and client connection program using any packet capturing methods they desire. There will be 5 passwords that will be broadcasted through the client-server connection. As stated, you will be able to use any method to capture the packets, but recommendations for tools will be provided as well as documentation for said tools.\n",
    "\n",
    "Once have captured and parsed the passwords from the packets, you can then enter them in the submission bar to see how well they have done.\n"
   ]
  },
  {
   "cell_type": "markdown",
   "metadata": {},
   "source": [
    "# Outcomes of the Exercise\n",
    "\n",
    "\n",
    "The outcomes of this exercise are as follows:\n",
    "\n",
    "* To give you an understanding of the structure of packets being sent through the network.\n",
    "\n",
    "*\tTo give you an understanding of how packet sniffer/ analyzers function as well as the process of how packet capturing can be used to gain access to data.\n",
    "\n",
    "*\tTo give you an understanding on how to parse information or write and/or create means of parsing information."
   ]
  },
  {
   "cell_type": "markdown",
   "metadata": {},
   "source": [
    "# Documentation and Recommendation\n",
    "\n",
    "As stated perviously, you can capture the packet from the Server Client connection any manner you see fit, but there are two methods one can use to capture packet traffic.\n",
    "\n",
    "Wireshark Wireshark is a free and open-source packet analyzer that has been installed on this machine for you to use. With Wireshark you can analyze packets in traffic from specific ports numbers or ip addresses. You can also specifiy what type of protocol you are specifily looking for. The given link below provides more information on the current version of WireShark:\n",
    "\n",
    "[https://www.wireshark.org/download/docs/user-guide.pdf](https://www.wireshark.org/download/docs/user-guide.pdf)\n",
    "\n",
    "The second recommondation is the use of TCPflow through the terminal.\n",
    "\n",
    "TCPflow is a program that captures data transmitted as part of TCP connections (the flow), and stores them in a way that is convient for protocol analysis and debugging. A program like tcpdump shows a summary of packets seen on the wire, but usually doesn't store the data that's actually being transmitted. In contrast, tcpflow reconstructs the actual data streams and stores each flow in a separate file for later analysis. tcpflow understands TCP sequence numbers and will correctly reconstruct data streams regardless of retransmissions or out-of-order delivery.\n",
    "\n",
    "The Command for TCPflow looks like this:\n",
    "\n",
    "```\n",
    "tcpflow [-chpsv] [-b max_bytes] [-d debug_level] [-f max_fds] [-i iface] [-r file] [expression]\n",
    "```\n",
    "\n",
    "For more information on TCPflow, check the man page link below:\n",
    "\n",
    "[https://linux.die.net/man/1/tcpflow](https://linux.die.net/man/1/tcpflow)"
   ]
  },
  {
   "cell_type": "markdown",
   "metadata": {},
   "source": [
    "## How to Begin\n",
    "\n",
    "To begin this exercise the you will have to download the either the TCP Client python script or the UDP Client script. Once you have downloaded the version of the client script you want to work with, you should locate that file using the terminal, or command prompt, provided for you in preperation. When you are ready to begin run the server scripts from this page first, then run the client script from your terminal. You will know when the connection has been made when the IP address and port number prints on the screen.\n",
    "\n",
    "Here is the file for the TCP Client script:\n",
    "\n",
    "[TCP_Client](TCP_client.py)\n",
    "\n",
    "Here is the file for the UDP Client script:\n",
    "\n",
    "[UDP_Client](UDP_Client.py)"
   ]
  },
  {
   "cell_type": "markdown",
   "metadata": {},
   "source": [
    "## TCP Server\n",
    "\n",
    "The cell below contains the coded needed to run the TCP version of the server. If you wish to work with TCP packets, use this server."
   ]
  },
  {
   "cell_type": "code",
   "execution_count": null,
   "metadata": {
    "scrolled": true
   },
   "outputs": [],
   "source": [
    "{\n",
    "    \"tags\": [\n",
    "        \"hide-input\",\n",
    "    ]\n",
    "}\n",
    "\n",
    "import TCP_server\n",
    "TCP_server.Start_server()"
   ]
  },
  {
   "cell_type": "markdown",
   "metadata": {},
   "source": [
    "## UDP Server\n",
    "\n",
    "The cell below contains the coded needed to run the UDP version of the server. If you wish to work with UDP packets, use this server."
   ]
  },
  {
   "cell_type": "code",
   "execution_count": null,
   "metadata": {},
   "outputs": [],
   "source": [
    "{\n",
    "    \"tags\": [\n",
    "        \"hide-input\",\n",
    "    ]\n",
    "}\n",
    "\n",
    "import socket\n",
    "\n",
    "\n",
    "Ip = \"127.0.0.1\"\n",
    "port = 60000\n",
    "buffersize = 2048\n",
    "\n",
    "\n",
    "messageFromServer = \"Hello client \"\n",
    "fromServerBytes = str.encode(messageFromServer)\n",
    "\n",
    "UDPServerSocket = socket.socket(family=socket.AF_INET, type=socket.SOCK_DGRAM)\n",
    "\n",
    "UDPServerSocket.bind( ( Ip,port ) )\n",
    "\n",
    "print(\"Server is listening \")\n",
    "\n",
    "while(True):\n",
    "    bytesAddressPair = UDPServerSocket.recvfrom(buffersize)\n",
    "\n",
    "    message = bytesAddressPair[0]\n",
    "\n",
    "    address = bytesAddressPair[1]\n",
    "\n",
    "    UDPServerSocket.sendto(fromServerBytes, address)"
   ]
  }
 ],
 "metadata": {
  "kernelspec": {
   "display_name": "Python 3",
   "language": "python",
   "name": "python3"
  },
  "language_info": {
   "codemirror_mode": {
    "name": "ipython",
    "version": 3
   },
   "file_extension": ".py",
   "mimetype": "text/x-python",
   "name": "python",
   "nbconvert_exporter": "python",
   "pygments_lexer": "ipython3",
   "version": "3.8.5"
  }
 },
 "nbformat": 4,
 "nbformat_minor": 4
}
