{
 "cells": [
  {
   "cell_type": "markdown",
   "metadata": {},
   "source": [
    "# Stage 1: Buffer Overflow\n",
    "\n",
    "## Work is done in the terminal outside of Jupyter.\n",
    "\n",
    "### Overview:\n",
    "A buffer overflow is when data being inputted into memory is larger than its buffer and overwrites the adjacent memory. This can allow attackers to inject code into a program and gain access to places they are not supposed to. In this stage, you will create a buffer overflow attack that will allow you to get into a if statement that will always be false. Because of the security implications, many languages have eliminated functions that allow these attacks to occur, so you'll be exploiting the 'strcpy' command in the C programming language. While this has been fixed with the newer 'strncpy' function, some places still use 'strcpy' and are vulnerable to this attack.\n",
    "\n",
    "### Outcomes\n",
    "Upon completion of this stage, you should gain the following:\n",
    "- Know how to perform a simple Buffer Overflow attack\n",
    "- An understanding of how an attacker can use a buffer overflow attack\n",
    "\n",
    "### Goal\n",
    "Create a buffer overflow, and have the 'break_me' function return so that the output says:<br>\n",
    "$\\;\\;\\;\\;\\;\\;$-=-=-=-=-=-=-=-=-=-=-=-=-=-=-<br>\n",
    "$\\;\\;\\;\\;\\;\\;$What are you doing in here?<br>\n",
    "$\\;\\;\\;\\;\\;\\;$-=-=-=-=-=-=-=-=-=-=-=-=-=-=-<br>\n",
    "\n",
    "### How to Begin:\n",
    "To start, <b>run the cell below</b> in order to find the version of this stage you will be working on:"
   ]
  },
  {
   "cell_type": "code",
   "execution_count": null,
   "metadata": {},
   "outputs": [],
   "source": [
    "import secrets\n",
    "num = secrets.randbelow(4)\n",
    "print(num+1)"
   ]
  },
  {
   "cell_type": "markdown",
   "metadata": {},
   "source": [
    "Now that you have your version number, in a new terminal go to <b>'buffer_overflow_files/version number'</b> and look at the heavily documented C file to understand what causes the opertunity of a buffer overflow attack.<br>\n",
    "Once you are done reading the C file, launch the 'buffer_overflow' program using the terminal command <b>'gdb -q buffer_overflow'</b> and figure out how to create a buffer overflow.<br>\n",
    "#### GDB Commands:\n",
    "Since this is most likely your first time using gdb, here are some commands that will be important:\n",
    "\n",
    "\n",
    "    run|r - Run the current program. To run a program with an input (like ours), type the input before hitting enter (r input).\n",
    "\n",
    "    break|b - Create a breakpoint. The program will run until it hits the line specified ('b example' will pause at a function named example).\n",
    "\n",
    "    next|n - Execute the next line in the program after it hits a breakpoint.\n",
    "\n",
    "    disas - Will display the memory location of each operation in the current function.\n",
    "    \n",
    "    x/32vx $rsp - Will show what is in the stack pointer rsp. This will include your input, as well as the return address for the current function.\n",
    "\n",
    "    enter/return key - Repeat last command"
   ]
  },
  {
   "cell_type": "markdown",
   "metadata": {},
   "source": [
    "### Your Task:\n",
    "Figure out how to cause a buffer overflow and get the program to print:<br>\n",
    "$\\;\\;\\;\\;\\;\\;$-=-=-=-=-=-=-=-=-=-=-=-=-=-=-<br>\n",
    "$\\;\\;\\;\\;\\;\\;$What are you doing in here?<br>\n",
    "$\\;\\;\\;\\;\\;\\;$-=-=-=-=-=-=-=-=-=-=-=-=-=-=-<br>\n",
    "\n",
    "Put the string found in the box below as a Python script: <b>$(python -c \"print 'A'*# + '\\x##\\x##\\x##\\x##'\")</b>."
   ]
  },
  {
   "cell_type": "code",
   "execution_count": null,
   "metadata": {},
   "outputs": [],
   "source": []
  }
 ],
 "metadata": {
  "kernelspec": {
   "display_name": "Python 3",
   "language": "python",
   "name": "python3"
  },
  "language_info": {
   "codemirror_mode": {
    "name": "ipython",
    "version": 3
   },
   "file_extension": ".py",
   "mimetype": "text/x-python",
   "name": "python",
   "nbconvert_exporter": "python",
   "pygments_lexer": "ipython3",
   "version": "3.8.5"
  }
 },
 "nbformat": 4,
 "nbformat_minor": 4
}
