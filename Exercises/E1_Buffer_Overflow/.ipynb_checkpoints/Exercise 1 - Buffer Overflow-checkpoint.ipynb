{
 "cells": [
  {
   "cell_type": "markdown",
   "metadata": {},
   "source": [
    "# Exercise 1: Buffer Overflow\n",
    "\n",
    "## Work is done outside of Jupyter.\n",
    "\n",
    "### Overview\n",
    "I"
   ]
  },
  {
   "cell_type": "markdown",
   "metadata": {},
   "source": [
    "Welcome to the buffer overflow exercise! In this exercise, we will exploit the C function 'strcpy' that allowed a user to input more characters into an array then there was allocted in the memory.\n",
    "\n",
    "To start, please run the code below to get your exercise number"
   ]
  },
  {
   "cell_type": "code",
   "execution_count": null,
   "metadata": {},
   "outputs": [],
   "source": [
    "import secrets\n",
    "num = secrets.randbelow(4)\n",
    "print(num+1)"
   ]
  },
  {
   "cell_type": "markdown",
   "metadata": {},
   "source": [
    "Now that you have your exercise number, head over to the Exercise 1 directory in terminal and go into the directory that shares the number you got. You should see the Buffer_overflow.c and buffer_overflow files. Take a look at the C file, if you have never worked with C before no worries! You won't have to code in C, and the file has been well documented. Why C? C has the function 'strcpy' which can easily be used to execute a buffer overflow attack which newer languages (Python, Java, C++, etc.) have fixed."
   ]
  },
  {
   "cell_type": "markdown",
   "metadata": {},
   "source": [
    "What is a buffer overflow attack? It is when someone uses a vulnerability to overwrite memory they are not supposed to. This can allow them to execute injected code, or gain access to parts of the system they are not allowed to access. You will change the return address of the 'break_me' function to get the program to print out \"What are you doing in here?\" In order for this attack to be successful, we had to compile the program with the command: 'gcc -no-pie -g -fno-stack-protector -o buffer_overflow Buffer_Overflow.c'"
   ]
  },
  {
   "cell_type": "markdown",
   "metadata": {},
   "source": [
    "To figure out what input we need to create the buffer overflow, you should use the gdb debugger. To access the program in the debugger, in terminal type 'gdb -q ./buffer_overflow'. Here are some gdb commands that will be useful:\n",
    "\n",
    "    run|r - Run the current program. To run a program with an input (like ours), type the input before hitting enter (r input).\n",
    "\n",
    "    break|b - Create a break point. The program will run until it hits the line specified ('b example' will pause at a function named example).\n",
    "\n",
    "    next|n - Execute next line in the program after it hits a break point.\n",
    "\n",
    "    disas - Will display the memory location of each operation in the current function.\n",
    "    \n",
    "    x/32vx $rsp - Will show what is in the stack pointer rsp. This will include your input, as well as the return address for the current function."
   ]
  },
  {
   "cell_type": "markdown",
   "metadata": {},
   "source": [
    "To make it easier to write the input, you can (and should) use a python script. This can be done by using the command '$(python -c \"print 'A'*# + '\\x##\\x##\\x##\\x##'\")' as the program's input. Please put the working script in the cell below this one."
   ]
  },
  {
   "cell_type": "code",
   "execution_count": null,
   "metadata": {},
   "outputs": [],
   "source": []
  }
 ],
 "metadata": {
  "kernelspec": {
   "display_name": "Python 3",
   "language": "python",
   "name": "python3"
  },
  "language_info": {
   "codemirror_mode": {
    "name": "ipython",
    "version": 3
   },
   "file_extension": ".py",
   "mimetype": "text/x-python",
   "name": "python",
   "nbconvert_exporter": "python",
   "pygments_lexer": "ipython3",
   "version": "3.8.5"
  }
 },
 "nbformat": 4,
 "nbformat_minor": 4
}
