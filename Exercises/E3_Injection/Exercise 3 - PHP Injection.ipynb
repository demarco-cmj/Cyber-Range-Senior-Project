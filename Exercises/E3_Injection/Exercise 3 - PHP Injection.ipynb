{
 "cells": [
  {
   "cell_type": "markdown",
   "metadata": {},
   "source": [
    "# Stage 3: PHP Injection\n",
    "\n",
    "## Need to look at files outside of Jupyter\n",
    "\n",
    "### Overview:\n",
    "In this stage you will inject a PHP script into an unsecure website that will return information when ran. The information we want is the Admin's email and password so that you can log into their account. To do this, you should explore the website located at http://localhost, and also explore the file system for that website located at /home/student/Site_to_inject.\n",
    "\n",
    "### Outcome:\n",
    "Upon completion of this stage, you should gain the following:\n",
    "- Gain a basic understanding of how to inject PHP code into an unsecured website\n",
    "- Learn how a potential attacker can exploit flaws in a website's file system to run malicious code\n",
    "\n",
    "### Goal:\n",
    "Write <b>python code in the cell below</b> that will inject and access PHP code into the site located at http://localhost that will <b>output the admin user's email and password</b>.\n",
    "\n",
    "### How to begin:\n",
    "You will want to take a look at the files located at '<b>/home/student/Site_to_inject</b>' as well as the site at http://localhost. Use the site and see how it effects the files. Figure out how to inject and call code, then work on getting that code to print out the <b>admin user's file</b>.\n",
    "\n",
    "Once you have figured out how to inject the PHP code and get it to print the admin's account details, create a <b>python script in the cell below</b> that will <b>inject the PHP code into the site, call upon the code, and print what it returns</b>."
   ]
  },
  {
   "cell_type": "code",
   "execution_count": null,
   "metadata": {},
   "outputs": [],
   "source": [
    "import requests"
   ]
  }
 ],
 "metadata": {
  "kernelspec": {
   "display_name": "Python 3",
   "language": "python",
   "name": "python3"
  },
  "language_info": {
   "codemirror_mode": {
    "name": "ipython",
    "version": 3
   },
   "file_extension": ".py",
   "mimetype": "text/x-python",
   "name": "python",
   "nbconvert_exporter": "python",
   "pygments_lexer": "ipython3",
   "version": "3.8.5"
  }
 },
 "nbformat": 4,
 "nbformat_minor": 4
}
