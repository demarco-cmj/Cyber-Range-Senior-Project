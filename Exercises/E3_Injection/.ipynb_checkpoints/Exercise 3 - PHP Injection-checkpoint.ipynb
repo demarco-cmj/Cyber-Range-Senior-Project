{
 "cells": [
  {
   "cell_type": "markdown",
   "metadata": {},
   "source": [
    "# Stage 3: PHP Injection\n",
    "\n",
    "## Need to look at files outside of Jupyter\n",
    "\n",
    "### Overview:\n",
    "In this stage you will inject a PHP script into an unsecure website that will return information when ran. The information we want is the Admin's email and password so that you can log into their account. To do this, you should explore the website located at http://localhost, and also explore the file system for that website located at /home/student/Site_to_inject.\n",
    "\n",
    "### Outcome:\n",
    "This stage will give you a basic understanding of how to inject PHP code into an unsecured website, and see how a potential attacker can exploit flaws in the file system to run malicious code.\n",
    "\n",
    "### Goal:\n",
    "The goal for this stage is for you to write python code that will inject a PHP script into the website located at http://localhost, and return the Admin's email and password. You should then print out what was returned."
   ]
  },
  {
   "cell_type": "code",
   "execution_count": null,
   "metadata": {},
   "outputs": [],
   "source": []
  }
 ],
 "metadata": {
  "kernelspec": {
   "display_name": "Python 3",
   "language": "python",
   "name": "python3"
  },
  "language_info": {
   "codemirror_mode": {
    "name": "ipython",
    "version": 3
   },
   "file_extension": ".py",
   "mimetype": "text/x-python",
   "name": "python",
   "nbconvert_exporter": "python",
   "pygments_lexer": "ipython3",
   "version": "3.8.5"
  }
 },
 "nbformat": 4,
 "nbformat_minor": 4
}
